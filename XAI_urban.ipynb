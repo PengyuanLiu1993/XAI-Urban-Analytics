{
  "nbformat": 4,
  "nbformat_minor": 0,
  "metadata": {
    "colab": {
      "provenance": []
    },
    "kernelspec": {
      "name": "python3",
      "display_name": "Python 3"
    },
    "language_info": {
      "name": "python"
    },
    "gpuClass": "standard"
  },
  "cells": [
    {
      "cell_type": "code",
      "execution_count": null,
      "metadata": {
        "colab": {
          "base_uri": "https://localhost:8080/"
        },
        "id": "zWVW7hL7pVtR",
        "outputId": "f1a5c069-5efa-4ab4-babc-383040108022"
      },
      "outputs": [
        {
          "output_type": "stream",
          "name": "stdout",
          "text": [
            "Looking in indexes: https://pypi.org/simple, https://us-python.pkg.dev/colab-wheels/public/simple/\n",
            "Requirement already satisfied: dgl in /usr/local/lib/python3.7/dist-packages (0.9.1)\n",
            "Requirement already satisfied: psutil>=5.8.0 in /usr/local/lib/python3.7/dist-packages (from dgl) (5.9.4)\n",
            "Requirement already satisfied: networkx>=2.1 in /usr/local/lib/python3.7/dist-packages (from dgl) (2.6.3)\n",
            "Requirement already satisfied: scipy>=1.1.0 in /usr/local/lib/python3.7/dist-packages (from dgl) (1.7.3)\n",
            "Requirement already satisfied: tqdm in /usr/local/lib/python3.7/dist-packages (from dgl) (4.64.1)\n",
            "Requirement already satisfied: numpy>=1.14.0 in /usr/local/lib/python3.7/dist-packages (from dgl) (1.21.6)\n",
            "Requirement already satisfied: requests>=2.19.0 in /usr/local/lib/python3.7/dist-packages (from dgl) (2.23.0)\n",
            "Requirement already satisfied: chardet<4,>=3.0.2 in /usr/local/lib/python3.7/dist-packages (from requests>=2.19.0->dgl) (3.0.4)\n",
            "Requirement already satisfied: certifi>=2017.4.17 in /usr/local/lib/python3.7/dist-packages (from requests>=2.19.0->dgl) (2022.9.24)\n",
            "Requirement already satisfied: idna<3,>=2.5 in /usr/local/lib/python3.7/dist-packages (from requests>=2.19.0->dgl) (2.10)\n",
            "Requirement already satisfied: urllib3!=1.25.0,!=1.25.1,<1.26,>=1.21.1 in /usr/local/lib/python3.7/dist-packages (from requests>=2.19.0->dgl) (1.24.3)\n",
            "Looking in indexes: https://pypi.org/simple, https://us-python.pkg.dev/colab-wheels/public/simple/\n",
            "Requirement already satisfied: jenkspy in /usr/local/lib/python3.7/dist-packages (0.3.2)\n",
            "Requirement already satisfied: numpy in /usr/local/lib/python3.7/dist-packages (from jenkspy) (1.21.6)\n"
          ]
        }
      ],
      "source": [
        "!pip install dgl\n",
        "!pip install jenkspy"
      ]
    },
    {
      "cell_type": "code",
      "source": [
        "import pandas as pd\n",
        "\n",
        "y_traffic_volume=pd.read_csv('/content/number-synvalues.csv')\n",
        "features=pd.read_csv('/content/Full_road_values.csv')\n",
        "\n",
        "edge = pd.read_csv('/content/Road_network.csv')"
      ],
      "metadata": {
        "id": "JhztejM15JYn"
      },
      "execution_count": null,
      "outputs": []
    },
    {
      "cell_type": "code",
      "source": [
        "from jenkspy import JenksNaturalBreaks\n",
        "\n",
        "jnb =JenksNaturalBreaks(5)\n",
        "jnb.fit(list(y_traffic_volume['count'].values))\n",
        "data_label_norm = jnb.labels_\n",
        "\n",
        "len(data_label_norm)"
      ],
      "metadata": {
        "colab": {
          "base_uri": "https://localhost:8080/"
        },
        "id": "o0mcoZihut2H",
        "outputId": "839cba22-5757-4a4e-faed-72dcf924c0c5"
      },
      "execution_count": null,
      "outputs": [
        {
          "output_type": "execute_result",
          "data": {
            "text/plain": [
              "5075"
            ]
          },
          "metadata": {},
          "execution_count": 3
        }
      ]
    },
    {
      "cell_type": "code",
      "source": [
        "data_label_norm[1182]"
      ],
      "metadata": {
        "colab": {
          "base_uri": "https://localhost:8080/"
        },
        "id": "KXkctLXW-CSF",
        "outputId": "c0eaa880-d907-46a4-adea-249e9fd67709"
      },
      "execution_count": null,
      "outputs": [
        {
          "output_type": "execute_result",
          "data": {
            "text/plain": [
              "1"
            ]
          },
          "metadata": {},
          "execution_count": 4
        }
      ]
    },
    {
      "cell_type": "code",
      "source": [
        "from torch.utils.data import Dataset\n",
        "from torch.utils.data import DataLoader\n",
        "import torch\n",
        "# device = torch.device('cuda:0')\n",
        "\n",
        "import numpy as np\n",
        "from dgl.data import DGLDataset\n",
        "import dgl\n",
        "\n",
        "\n",
        "class MyDataset(DGLDataset):\n",
        "    '''\n",
        "    自定义数据集\n",
        "    '''\n",
        "    def __init__(self):\n",
        "        super().__init__(name='synthetic')\n",
        "    def process(self):\n",
        "        nodes_data = pd.read_csv('/content/Full_road_values.csv')\n",
        "        edges_data = pd.read_csv('/content/Road_network.csv')\n",
        "        node_features = torch.from_numpy(nodes_data.iloc[:,1:].to_numpy())\n",
        "        node_labels = torch.from_numpy(np.array(data_label_norm))\n",
        "\n",
        "        edge_features = torch.from_numpy(edges_data['Weights'].to_numpy())\n",
        "        edge_features=edge_features.to(torch.float32)\n",
        "        print(edge_features)\n",
        "\n",
        "        edges_src = torch.from_numpy(edge['RoadID'].astype('category').cat.codes.to_numpy())\n",
        "        edges_src=edges_src.to(torch.int32)\n",
        "        # print(edges_src)\n",
        "        edges_dst = torch.from_numpy(edge['RoadID_2'].astype('category').cat.codes.to_numpy())\n",
        "        edges_dst=edges_dst.to(torch.int32)\n",
        "\n",
        "\n",
        "        # edges_src = torch.from_numpy(edge['RoadID'].to_numpy())\n",
        "        # edges_dst = torch.from_numpy(edge['RoadID_2'].to_numpy())\n",
        "\n",
        "        self.graph = dgl.graph((edges_src, edges_dst), num_nodes=nodes_data.shape[0],idtype=torch.int32)\n",
        "        self.graph.ndata['feat'] = node_features\n",
        "        self.graph.ndata['label'] = node_labels\n",
        "\n",
        "        self.graph.edata['weight'] = edge_features\n",
        "\n",
        "        # If your dataset is a node classification dataset, you will need to assign\n",
        "        # masks indicating whether a node belongs to training, validation, and test set.\n",
        "        n_nodes = nodes_data.shape[0]\n",
        "        n_train = int(n_nodes * 0.2)\n",
        "        n_val = int(n_nodes * 0.1)\n",
        "        train_mask = torch.zeros(n_nodes, dtype=torch.bool)\n",
        "        val_mask = torch.zeros(n_nodes, dtype=torch.bool)\n",
        "        test_mask = torch.zeros(n_nodes, dtype=torch.bool)\n",
        "        train_mask[:n_train] = True\n",
        "        val_mask[n_train:n_train + n_val] = True\n",
        "        test_mask[n_train + n_val:] = True\n",
        "        self.graph.ndata['train_mask'] = train_mask\n",
        "        self.graph.ndata['val_mask'] = val_mask\n",
        "        self.graph.ndata['test_mask'] = test_mask\n",
        "\n",
        "    def __getitem__(self, i):\n",
        "        return self.graph\n",
        "\n",
        "    def __len__(self):\n",
        "        return 1"
      ],
      "metadata": {
        "id": "1RUAh1zlxDpW"
      },
      "execution_count": null,
      "outputs": []
    },
    {
      "cell_type": "code",
      "source": [
        "dataset = MyDataset()\n",
        "\n",
        "g = dataset[0]\n"
      ],
      "metadata": {
        "colab": {
          "base_uri": "https://localhost:8080/"
        },
        "id": "Ge7SQ-E50oeX",
        "outputId": "c1110ba9-e9cf-47ea-80e2-12c0afee1b2f"
      },
      "execution_count": null,
      "outputs": [
        {
          "output_type": "stream",
          "name": "stdout",
          "text": [
            "tensor([1., 1., 1.,  ..., 1., 1., 1.])\n"
          ]
        },
        {
          "output_type": "stream",
          "name": "stderr",
          "text": [
            "/usr/local/lib/python3.7/dist-packages/ipykernel_launcher.py:27: UserWarning: The given NumPy array is not writable, and PyTorch does not support non-writable tensors. This means writing to this tensor will result in undefined behavior. You may want to copy the array to protect its data or make it writable before converting it to a tensor. This type of warning will be suppressed for the rest of this program. (Triggered internally at  ../torch/csrc/utils/tensor_numpy.cpp:172.)\n"
          ]
        }
      ]
    },
    {
      "cell_type": "code",
      "source": [
        "g"
      ],
      "metadata": {
        "colab": {
          "base_uri": "https://localhost:8080/"
        },
        "id": "ydceRoyC2TE3",
        "outputId": "37b573a4-8761-42f9-86ed-4142c4516e0a"
      },
      "execution_count": null,
      "outputs": [
        {
          "output_type": "execute_result",
          "data": {
            "text/plain": [
              "Graph(num_nodes=5075, num_edges=24338,\n",
              "      ndata_schemes={'feat': Scheme(shape=(19,), dtype=torch.float64), 'label': Scheme(shape=(), dtype=torch.int64), 'train_mask': Scheme(shape=(), dtype=torch.bool), 'val_mask': Scheme(shape=(), dtype=torch.bool), 'test_mask': Scheme(shape=(), dtype=torch.bool)}\n",
              "      edata_schemes={'weight': Scheme(shape=(), dtype=torch.float32)})"
            ]
          },
          "metadata": {},
          "execution_count": 7
        }
      ]
    },
    {
      "cell_type": "code",
      "source": [
        "g.ndata['feat'].double()"
      ],
      "metadata": {
        "colab": {
          "base_uri": "https://localhost:8080/"
        },
        "id": "z7Te_BqYwcqN",
        "outputId": "b0507b3d-9653-4e1e-cf98-5e7f678a605b"
      },
      "execution_count": null,
      "outputs": [
        {
          "output_type": "execute_result",
          "data": {
            "text/plain": [
              "tensor([[3.6908e-01, 8.5239e-03, 5.5676e-02,  ..., 0.0000e+00, 3.3531e-03,\n",
              "         6.0177e-04],\n",
              "        [3.1348e-01, 6.7110e-03, 1.6385e-01,  ..., 0.0000e+00, 9.2506e-04,\n",
              "         1.2800e-05],\n",
              "        [3.4598e-01, 8.9353e-03, 6.5192e-02,  ..., 4.7700e-07, 8.6800e-05,\n",
              "         1.1900e-05],\n",
              "        ...,\n",
              "        [3.0759e-01, 2.0184e-02, 2.0113e-01,  ..., 0.0000e+00, 3.8370e-04,\n",
              "         2.9440e-03],\n",
              "        [2.3477e-01, 1.0309e-02, 3.8267e-01,  ..., 0.0000e+00, 6.7744e-03,\n",
              "         2.0576e-03],\n",
              "        [2.0135e-01, 2.0895e-03, 5.8558e-02,  ..., 0.0000e+00, 0.0000e+00,\n",
              "         0.0000e+00]], dtype=torch.float64)"
            ]
          },
          "metadata": {},
          "execution_count": 8
        }
      ]
    },
    {
      "cell_type": "code",
      "source": [
        "# Define a model\n",
        "# import dgl\n",
        "import dgl.function as fn\n",
        "import torch\n",
        "import torch.nn as nn\n",
        "# from dgl.data import CoraGraphDataset\n",
        "from dgl.nn import GNNExplainer\n",
        "import torch.nn.functional as F\n",
        "\n",
        "from dgl.nn import GraphConv\n",
        "\n",
        "class GCN(nn.Module):\n",
        "    def __init__(self, in_feats, h_feats, num_classes):\n",
        "        super(GCN, self).__init__()\n",
        "        self.conv1 = GraphConv(in_feats, h_feats)\n",
        "        self.conv2 = GraphConv(h_feats, num_classes)\n",
        "\n",
        "    def forward(self, graph, feat, eweight=None):\n",
        "\n",
        "\n",
        "        with graph.local_scope():\n",
        "            h = self.conv1(graph, feat)\n",
        "            h = F.relu(h)\n",
        "            h = self.conv2(graph, h)\n",
        "            # feat = self.linear(feat)\n",
        "            graph.ndata['h'] = h\n",
        "            if eweight is None:\n",
        "                graph.update_all(fn.copy_u('h', 'm'), fn.sum('m', 'h'))\n",
        "            else:\n",
        "                graph.edata['w'] = eweight\n",
        "                graph.update_all(fn.u_mul_e('h', 'w', 'm'), fn.sum('m', 'h'))\n",
        "            return graph.ndata['h']\n"
      ],
      "metadata": {
        "id": "nb0EOVKr45Lb"
      },
      "execution_count": null,
      "outputs": []
    },
    {
      "cell_type": "code",
      "source": [
        "def train(g, model):\n",
        "    optimizer = torch.optim.Adam(model.parameters(), lr=0.01)\n",
        "    best_val_acc = 0\n",
        "    best_test_acc = 0\n",
        "\n",
        "    features = g.ndata['feat'].float()\n",
        "    labels = g.ndata['label']\n",
        "    train_mask = g.ndata['train_mask']\n",
        "    val_mask = g.ndata['val_mask']\n",
        "    test_mask = g.ndata['test_mask']\n",
        "    for e in range(1000):\n",
        "        # Forward\n",
        "        logits = model(g, features)\n",
        "\n",
        "        # Compute prediction\n",
        "        pred = logits.argmax(1)\n",
        "\n",
        "        # Compute loss\n",
        "        # Note that you should only compute the losses of the nodes in the training set.\n",
        "        loss = F.cross_entropy(logits[train_mask], labels[train_mask])\n",
        "\n",
        "        # Compute accuracy on training/validation/test\n",
        "        train_acc = (pred[train_mask] == labels[train_mask]).float().mean()\n",
        "        val_acc = (pred[val_mask] == labels[val_mask]).float().mean()\n",
        "        test_acc = (pred[test_mask] == labels[test_mask]).float().mean()\n",
        "\n",
        "        # Save the best validation accuracy and the corresponding test accuracy.\n",
        "        if best_val_acc < val_acc:\n",
        "            best_val_acc = val_acc\n",
        "            best_test_acc = test_acc\n",
        "\n",
        "        # Backward\n",
        "        optimizer.zero_grad()\n",
        "        loss.backward()\n",
        "        optimizer.step()\n",
        "\n",
        "        if e % 5 == 0:\n",
        "            print('In epoch {}, loss: {:.3f}, val acc: {:.3f} (best {:.3f}), test acc: {:.3f} (best {:.3f})'.format(\n",
        "                e, loss, val_acc, best_val_acc, test_acc, best_test_acc))\n",
        "model = GCN(g.ndata['feat'].shape[1], 16, 7)\n",
        "train(g, model)"
      ],
      "metadata": {
        "colab": {
          "base_uri": "https://localhost:8080/"
        },
        "id": "w1wH8SvjwEwG",
        "outputId": "619ecd9b-e673-429c-9d46-a257b9d2b9d9"
      },
      "execution_count": null,
      "outputs": [
        {
          "output_type": "stream",
          "name": "stdout",
          "text": [
            "In epoch 0, loss: 1.934, val acc: 0.002 (best 0.002), test acc: 0.001 (best 0.001)\n"
          ]
        },
        {
          "output_type": "stream",
          "name": "stderr",
          "text": [
            "/usr/local/lib/python3.7/dist-packages/torch/amp/autocast_mode.py:198: UserWarning: User provided device_type of 'cuda', but CUDA is not available. Disabling\n",
            "  warnings.warn('User provided device_type of \\'cuda\\', but CUDA is not available. Disabling')\n"
          ]
        },
        {
          "output_type": "stream",
          "name": "stdout",
          "text": [
            "In epoch 5, loss: 0.941, val acc: 0.850 (best 0.850), test acc: 0.812 (best 0.812)\n",
            "In epoch 10, loss: 0.775, val acc: 0.850 (best 0.850), test acc: 0.812 (best 0.812)\n",
            "In epoch 15, loss: 0.708, val acc: 0.850 (best 0.850), test acc: 0.812 (best 0.812)\n",
            "In epoch 20, loss: 0.647, val acc: 0.850 (best 0.850), test acc: 0.812 (best 0.812)\n",
            "In epoch 25, loss: 0.642, val acc: 0.850 (best 0.850), test acc: 0.812 (best 0.812)\n",
            "In epoch 30, loss: 0.618, val acc: 0.850 (best 0.850), test acc: 0.812 (best 0.812)\n",
            "In epoch 35, loss: 0.609, val acc: 0.850 (best 0.850), test acc: 0.812 (best 0.812)\n",
            "In epoch 40, loss: 0.597, val acc: 0.850 (best 0.850), test acc: 0.812 (best 0.812)\n",
            "In epoch 45, loss: 0.586, val acc: 0.850 (best 0.850), test acc: 0.812 (best 0.812)\n",
            "In epoch 50, loss: 0.576, val acc: 0.850 (best 0.850), test acc: 0.812 (best 0.812)\n",
            "In epoch 55, loss: 0.565, val acc: 0.850 (best 0.850), test acc: 0.812 (best 0.812)\n",
            "In epoch 60, loss: 0.555, val acc: 0.850 (best 0.850), test acc: 0.812 (best 0.812)\n",
            "In epoch 65, loss: 0.546, val acc: 0.850 (best 0.850), test acc: 0.812 (best 0.812)\n",
            "In epoch 70, loss: 0.539, val acc: 0.850 (best 0.852), test acc: 0.809 (best 0.811)\n",
            "In epoch 75, loss: 0.532, val acc: 0.844 (best 0.852), test acc: 0.800 (best 0.811)\n",
            "In epoch 80, loss: 0.528, val acc: 0.842 (best 0.852), test acc: 0.788 (best 0.811)\n",
            "In epoch 85, loss: 0.524, val acc: 0.840 (best 0.852), test acc: 0.783 (best 0.811)\n",
            "In epoch 90, loss: 0.521, val acc: 0.836 (best 0.852), test acc: 0.780 (best 0.811)\n",
            "In epoch 95, loss: 0.518, val acc: 0.836 (best 0.852), test acc: 0.775 (best 0.811)\n",
            "In epoch 100, loss: 0.516, val acc: 0.838 (best 0.852), test acc: 0.773 (best 0.811)\n",
            "In epoch 105, loss: 0.514, val acc: 0.836 (best 0.852), test acc: 0.773 (best 0.811)\n",
            "In epoch 110, loss: 0.512, val acc: 0.834 (best 0.852), test acc: 0.773 (best 0.811)\n",
            "In epoch 115, loss: 0.510, val acc: 0.834 (best 0.852), test acc: 0.774 (best 0.811)\n",
            "In epoch 120, loss: 0.508, val acc: 0.836 (best 0.852), test acc: 0.775 (best 0.811)\n",
            "In epoch 125, loss: 0.506, val acc: 0.836 (best 0.852), test acc: 0.777 (best 0.811)\n",
            "In epoch 130, loss: 0.504, val acc: 0.836 (best 0.852), test acc: 0.777 (best 0.811)\n",
            "In epoch 135, loss: 0.502, val acc: 0.836 (best 0.852), test acc: 0.778 (best 0.811)\n",
            "In epoch 140, loss: 0.501, val acc: 0.836 (best 0.852), test acc: 0.777 (best 0.811)\n",
            "In epoch 145, loss: 0.499, val acc: 0.838 (best 0.852), test acc: 0.778 (best 0.811)\n",
            "In epoch 150, loss: 0.497, val acc: 0.838 (best 0.852), test acc: 0.778 (best 0.811)\n",
            "In epoch 155, loss: 0.496, val acc: 0.838 (best 0.852), test acc: 0.779 (best 0.811)\n",
            "In epoch 160, loss: 0.494, val acc: 0.838 (best 0.852), test acc: 0.780 (best 0.811)\n",
            "In epoch 165, loss: 0.493, val acc: 0.840 (best 0.852), test acc: 0.778 (best 0.811)\n",
            "In epoch 170, loss: 0.491, val acc: 0.840 (best 0.852), test acc: 0.777 (best 0.811)\n",
            "In epoch 175, loss: 0.489, val acc: 0.840 (best 0.852), test acc: 0.777 (best 0.811)\n",
            "In epoch 180, loss: 0.488, val acc: 0.844 (best 0.852), test acc: 0.779 (best 0.811)\n",
            "In epoch 185, loss: 0.486, val acc: 0.844 (best 0.852), test acc: 0.778 (best 0.811)\n",
            "In epoch 190, loss: 0.484, val acc: 0.846 (best 0.852), test acc: 0.779 (best 0.811)\n",
            "In epoch 195, loss: 0.483, val acc: 0.846 (best 0.852), test acc: 0.779 (best 0.811)\n",
            "In epoch 200, loss: 0.481, val acc: 0.850 (best 0.852), test acc: 0.778 (best 0.811)\n",
            "In epoch 205, loss: 0.480, val acc: 0.846 (best 0.852), test acc: 0.777 (best 0.811)\n",
            "In epoch 210, loss: 0.479, val acc: 0.846 (best 0.852), test acc: 0.777 (best 0.811)\n",
            "In epoch 215, loss: 0.477, val acc: 0.852 (best 0.852), test acc: 0.779 (best 0.811)\n",
            "In epoch 220, loss: 0.476, val acc: 0.848 (best 0.852), test acc: 0.783 (best 0.811)\n",
            "In epoch 225, loss: 0.475, val acc: 0.850 (best 0.852), test acc: 0.778 (best 0.811)\n",
            "In epoch 230, loss: 0.473, val acc: 0.850 (best 0.852), test acc: 0.782 (best 0.811)\n",
            "In epoch 235, loss: 0.472, val acc: 0.848 (best 0.852), test acc: 0.781 (best 0.811)\n",
            "In epoch 240, loss: 0.471, val acc: 0.848 (best 0.852), test acc: 0.779 (best 0.811)\n",
            "In epoch 245, loss: 0.470, val acc: 0.848 (best 0.852), test acc: 0.782 (best 0.811)\n",
            "In epoch 250, loss: 0.469, val acc: 0.848 (best 0.852), test acc: 0.780 (best 0.811)\n",
            "In epoch 255, loss: 0.468, val acc: 0.848 (best 0.852), test acc: 0.778 (best 0.811)\n",
            "In epoch 260, loss: 0.466, val acc: 0.846 (best 0.852), test acc: 0.780 (best 0.811)\n",
            "In epoch 265, loss: 0.465, val acc: 0.846 (best 0.852), test acc: 0.779 (best 0.811)\n",
            "In epoch 270, loss: 0.464, val acc: 0.848 (best 0.852), test acc: 0.780 (best 0.811)\n",
            "In epoch 275, loss: 0.463, val acc: 0.850 (best 0.852), test acc: 0.780 (best 0.811)\n",
            "In epoch 280, loss: 0.462, val acc: 0.850 (best 0.852), test acc: 0.780 (best 0.811)\n",
            "In epoch 285, loss: 0.461, val acc: 0.850 (best 0.852), test acc: 0.779 (best 0.811)\n",
            "In epoch 290, loss: 0.460, val acc: 0.850 (best 0.852), test acc: 0.777 (best 0.811)\n",
            "In epoch 295, loss: 0.459, val acc: 0.852 (best 0.852), test acc: 0.779 (best 0.811)\n",
            "In epoch 300, loss: 0.459, val acc: 0.844 (best 0.852), test acc: 0.770 (best 0.811)\n",
            "In epoch 305, loss: 0.458, val acc: 0.846 (best 0.852), test acc: 0.774 (best 0.811)\n",
            "In epoch 310, loss: 0.457, val acc: 0.852 (best 0.852), test acc: 0.781 (best 0.811)\n",
            "In epoch 315, loss: 0.456, val acc: 0.850 (best 0.852), test acc: 0.780 (best 0.811)\n",
            "In epoch 320, loss: 0.455, val acc: 0.848 (best 0.852), test acc: 0.774 (best 0.811)\n",
            "In epoch 325, loss: 0.455, val acc: 0.848 (best 0.852), test acc: 0.774 (best 0.811)\n",
            "In epoch 330, loss: 0.454, val acc: 0.848 (best 0.852), test acc: 0.778 (best 0.811)\n",
            "In epoch 335, loss: 0.453, val acc: 0.848 (best 0.852), test acc: 0.778 (best 0.811)\n",
            "In epoch 340, loss: 0.452, val acc: 0.848 (best 0.852), test acc: 0.779 (best 0.811)\n",
            "In epoch 345, loss: 0.452, val acc: 0.848 (best 0.852), test acc: 0.779 (best 0.811)\n",
            "In epoch 350, loss: 0.451, val acc: 0.848 (best 0.852), test acc: 0.778 (best 0.811)\n",
            "In epoch 355, loss: 0.450, val acc: 0.848 (best 0.852), test acc: 0.776 (best 0.811)\n",
            "In epoch 360, loss: 0.450, val acc: 0.848 (best 0.852), test acc: 0.775 (best 0.811)\n",
            "In epoch 365, loss: 0.449, val acc: 0.848 (best 0.852), test acc: 0.775 (best 0.811)\n",
            "In epoch 370, loss: 0.448, val acc: 0.848 (best 0.852), test acc: 0.775 (best 0.811)\n",
            "In epoch 375, loss: 0.448, val acc: 0.848 (best 0.852), test acc: 0.774 (best 0.811)\n",
            "In epoch 380, loss: 0.447, val acc: 0.848 (best 0.852), test acc: 0.773 (best 0.811)\n",
            "In epoch 385, loss: 0.446, val acc: 0.848 (best 0.852), test acc: 0.773 (best 0.811)\n",
            "In epoch 390, loss: 0.446, val acc: 0.848 (best 0.852), test acc: 0.774 (best 0.811)\n",
            "In epoch 395, loss: 0.445, val acc: 0.848 (best 0.852), test acc: 0.772 (best 0.811)\n",
            "In epoch 400, loss: 0.444, val acc: 0.848 (best 0.852), test acc: 0.772 (best 0.811)\n",
            "In epoch 405, loss: 0.444, val acc: 0.848 (best 0.852), test acc: 0.770 (best 0.811)\n",
            "In epoch 410, loss: 0.445, val acc: 0.850 (best 0.852), test acc: 0.785 (best 0.811)\n",
            "In epoch 415, loss: 0.443, val acc: 0.848 (best 0.852), test acc: 0.782 (best 0.811)\n",
            "In epoch 420, loss: 0.443, val acc: 0.846 (best 0.852), test acc: 0.781 (best 0.811)\n",
            "In epoch 425, loss: 0.442, val acc: 0.848 (best 0.852), test acc: 0.773 (best 0.811)\n",
            "In epoch 430, loss: 0.441, val acc: 0.848 (best 0.852), test acc: 0.771 (best 0.811)\n",
            "In epoch 435, loss: 0.441, val acc: 0.848 (best 0.852), test acc: 0.768 (best 0.811)\n",
            "In epoch 440, loss: 0.440, val acc: 0.848 (best 0.852), test acc: 0.770 (best 0.811)\n",
            "In epoch 445, loss: 0.440, val acc: 0.850 (best 0.852), test acc: 0.770 (best 0.811)\n",
            "In epoch 450, loss: 0.439, val acc: 0.850 (best 0.852), test acc: 0.770 (best 0.811)\n",
            "In epoch 455, loss: 0.439, val acc: 0.850 (best 0.852), test acc: 0.771 (best 0.811)\n",
            "In epoch 460, loss: 0.438, val acc: 0.852 (best 0.852), test acc: 0.771 (best 0.811)\n",
            "In epoch 465, loss: 0.438, val acc: 0.852 (best 0.852), test acc: 0.769 (best 0.811)\n",
            "In epoch 470, loss: 0.437, val acc: 0.852 (best 0.852), test acc: 0.769 (best 0.811)\n",
            "In epoch 475, loss: 0.437, val acc: 0.850 (best 0.852), test acc: 0.769 (best 0.811)\n",
            "In epoch 480, loss: 0.436, val acc: 0.850 (best 0.852), test acc: 0.770 (best 0.811)\n",
            "In epoch 485, loss: 0.436, val acc: 0.850 (best 0.852), test acc: 0.769 (best 0.811)\n",
            "In epoch 490, loss: 0.435, val acc: 0.850 (best 0.852), test acc: 0.768 (best 0.811)\n",
            "In epoch 495, loss: 0.435, val acc: 0.850 (best 0.852), test acc: 0.767 (best 0.811)\n",
            "In epoch 500, loss: 0.435, val acc: 0.848 (best 0.852), test acc: 0.768 (best 0.811)\n",
            "In epoch 505, loss: 0.434, val acc: 0.850 (best 0.852), test acc: 0.765 (best 0.811)\n",
            "In epoch 510, loss: 0.434, val acc: 0.850 (best 0.852), test acc: 0.764 (best 0.811)\n",
            "In epoch 515, loss: 0.433, val acc: 0.848 (best 0.852), test acc: 0.768 (best 0.811)\n",
            "In epoch 520, loss: 0.433, val acc: 0.850 (best 0.852), test acc: 0.763 (best 0.811)\n",
            "In epoch 525, loss: 0.433, val acc: 0.850 (best 0.852), test acc: 0.766 (best 0.811)\n",
            "In epoch 530, loss: 0.432, val acc: 0.850 (best 0.852), test acc: 0.765 (best 0.811)\n",
            "In epoch 535, loss: 0.432, val acc: 0.850 (best 0.852), test acc: 0.765 (best 0.811)\n",
            "In epoch 540, loss: 0.432, val acc: 0.850 (best 0.852), test acc: 0.763 (best 0.811)\n",
            "In epoch 545, loss: 0.432, val acc: 0.848 (best 0.852), test acc: 0.778 (best 0.811)\n",
            "In epoch 550, loss: 0.431, val acc: 0.850 (best 0.852), test acc: 0.772 (best 0.811)\n",
            "In epoch 555, loss: 0.431, val acc: 0.848 (best 0.852), test acc: 0.767 (best 0.811)\n",
            "In epoch 560, loss: 0.430, val acc: 0.848 (best 0.852), test acc: 0.766 (best 0.811)\n",
            "In epoch 565, loss: 0.430, val acc: 0.848 (best 0.852), test acc: 0.766 (best 0.811)\n",
            "In epoch 570, loss: 0.429, val acc: 0.848 (best 0.852), test acc: 0.765 (best 0.811)\n",
            "In epoch 575, loss: 0.429, val acc: 0.848 (best 0.852), test acc: 0.763 (best 0.811)\n",
            "In epoch 580, loss: 0.429, val acc: 0.848 (best 0.852), test acc: 0.762 (best 0.811)\n",
            "In epoch 585, loss: 0.429, val acc: 0.846 (best 0.852), test acc: 0.763 (best 0.811)\n",
            "In epoch 590, loss: 0.428, val acc: 0.846 (best 0.852), test acc: 0.763 (best 0.811)\n",
            "In epoch 595, loss: 0.428, val acc: 0.848 (best 0.852), test acc: 0.765 (best 0.811)\n",
            "In epoch 600, loss: 0.428, val acc: 0.846 (best 0.852), test acc: 0.763 (best 0.811)\n",
            "In epoch 605, loss: 0.427, val acc: 0.846 (best 0.852), test acc: 0.762 (best 0.811)\n",
            "In epoch 610, loss: 0.427, val acc: 0.848 (best 0.852), test acc: 0.764 (best 0.811)\n",
            "In epoch 615, loss: 0.427, val acc: 0.846 (best 0.852), test acc: 0.762 (best 0.811)\n",
            "In epoch 620, loss: 0.427, val acc: 0.848 (best 0.852), test acc: 0.766 (best 0.811)\n",
            "In epoch 625, loss: 0.426, val acc: 0.848 (best 0.852), test acc: 0.760 (best 0.811)\n",
            "In epoch 630, loss: 0.426, val acc: 0.848 (best 0.852), test acc: 0.763 (best 0.811)\n",
            "In epoch 635, loss: 0.426, val acc: 0.848 (best 0.852), test acc: 0.765 (best 0.811)\n",
            "In epoch 640, loss: 0.426, val acc: 0.848 (best 0.852), test acc: 0.759 (best 0.811)\n",
            "In epoch 645, loss: 0.425, val acc: 0.848 (best 0.852), test acc: 0.765 (best 0.811)\n",
            "In epoch 650, loss: 0.425, val acc: 0.846 (best 0.852), test acc: 0.766 (best 0.811)\n",
            "In epoch 655, loss: 0.425, val acc: 0.848 (best 0.852), test acc: 0.760 (best 0.811)\n",
            "In epoch 660, loss: 0.424, val acc: 0.848 (best 0.852), test acc: 0.766 (best 0.811)\n",
            "In epoch 665, loss: 0.424, val acc: 0.848 (best 0.852), test acc: 0.766 (best 0.811)\n",
            "In epoch 670, loss: 0.424, val acc: 0.848 (best 0.852), test acc: 0.759 (best 0.811)\n",
            "In epoch 675, loss: 0.424, val acc: 0.848 (best 0.852), test acc: 0.766 (best 0.811)\n",
            "In epoch 680, loss: 0.423, val acc: 0.850 (best 0.852), test acc: 0.762 (best 0.811)\n",
            "In epoch 685, loss: 0.423, val acc: 0.850 (best 0.852), test acc: 0.762 (best 0.811)\n",
            "In epoch 690, loss: 0.423, val acc: 0.848 (best 0.852), test acc: 0.768 (best 0.811)\n",
            "In epoch 695, loss: 0.423, val acc: 0.848 (best 0.852), test acc: 0.759 (best 0.811)\n",
            "In epoch 700, loss: 0.422, val acc: 0.850 (best 0.852), test acc: 0.763 (best 0.811)\n",
            "In epoch 705, loss: 0.422, val acc: 0.848 (best 0.852), test acc: 0.768 (best 0.811)\n",
            "In epoch 710, loss: 0.422, val acc: 0.848 (best 0.852), test acc: 0.767 (best 0.811)\n",
            "In epoch 715, loss: 0.422, val acc: 0.850 (best 0.852), test acc: 0.764 (best 0.811)\n",
            "In epoch 720, loss: 0.421, val acc: 0.850 (best 0.852), test acc: 0.761 (best 0.811)\n",
            "In epoch 725, loss: 0.421, val acc: 0.850 (best 0.852), test acc: 0.765 (best 0.811)\n",
            "In epoch 730, loss: 0.421, val acc: 0.848 (best 0.852), test acc: 0.769 (best 0.811)\n",
            "In epoch 735, loss: 0.421, val acc: 0.850 (best 0.852), test acc: 0.761 (best 0.811)\n",
            "In epoch 740, loss: 0.420, val acc: 0.850 (best 0.852), test acc: 0.763 (best 0.811)\n",
            "In epoch 745, loss: 0.420, val acc: 0.848 (best 0.852), test acc: 0.769 (best 0.811)\n",
            "In epoch 750, loss: 0.420, val acc: 0.850 (best 0.852), test acc: 0.763 (best 0.811)\n",
            "In epoch 755, loss: 0.420, val acc: 0.848 (best 0.852), test acc: 0.763 (best 0.811)\n",
            "In epoch 760, loss: 0.420, val acc: 0.850 (best 0.852), test acc: 0.768 (best 0.811)\n",
            "In epoch 765, loss: 0.419, val acc: 0.848 (best 0.852), test acc: 0.763 (best 0.811)\n",
            "In epoch 770, loss: 0.419, val acc: 0.848 (best 0.852), test acc: 0.763 (best 0.811)\n",
            "In epoch 775, loss: 0.419, val acc: 0.850 (best 0.852), test acc: 0.768 (best 0.811)\n",
            "In epoch 780, loss: 0.419, val acc: 0.848 (best 0.852), test acc: 0.760 (best 0.811)\n",
            "In epoch 785, loss: 0.418, val acc: 0.850 (best 0.852), test acc: 0.767 (best 0.811)\n",
            "In epoch 790, loss: 0.418, val acc: 0.850 (best 0.852), test acc: 0.767 (best 0.811)\n",
            "In epoch 795, loss: 0.418, val acc: 0.848 (best 0.852), test acc: 0.758 (best 0.811)\n",
            "In epoch 800, loss: 0.418, val acc: 0.850 (best 0.852), test acc: 0.767 (best 0.811)\n",
            "In epoch 805, loss: 0.417, val acc: 0.850 (best 0.852), test acc: 0.767 (best 0.811)\n",
            "In epoch 810, loss: 0.417, val acc: 0.848 (best 0.852), test acc: 0.760 (best 0.811)\n",
            "In epoch 815, loss: 0.417, val acc: 0.850 (best 0.852), test acc: 0.767 (best 0.811)\n",
            "In epoch 820, loss: 0.417, val acc: 0.848 (best 0.852), test acc: 0.767 (best 0.811)\n",
            "In epoch 825, loss: 0.417, val acc: 0.848 (best 0.852), test acc: 0.762 (best 0.811)\n",
            "In epoch 830, loss: 0.417, val acc: 0.850 (best 0.852), test acc: 0.770 (best 0.811)\n",
            "In epoch 835, loss: 0.416, val acc: 0.848 (best 0.852), test acc: 0.763 (best 0.811)\n",
            "In epoch 840, loss: 0.416, val acc: 0.848 (best 0.852), test acc: 0.766 (best 0.811)\n",
            "In epoch 845, loss: 0.416, val acc: 0.848 (best 0.852), test acc: 0.768 (best 0.811)\n",
            "In epoch 850, loss: 0.415, val acc: 0.848 (best 0.852), test acc: 0.763 (best 0.811)\n",
            "In epoch 855, loss: 0.415, val acc: 0.850 (best 0.852), test acc: 0.769 (best 0.811)\n",
            "In epoch 860, loss: 0.415, val acc: 0.848 (best 0.852), test acc: 0.766 (best 0.811)\n",
            "In epoch 865, loss: 0.415, val acc: 0.848 (best 0.852), test acc: 0.766 (best 0.811)\n",
            "In epoch 870, loss: 0.415, val acc: 0.848 (best 0.852), test acc: 0.769 (best 0.811)\n",
            "In epoch 875, loss: 0.415, val acc: 0.842 (best 0.852), test acc: 0.756 (best 0.811)\n",
            "In epoch 880, loss: 0.414, val acc: 0.850 (best 0.852), test acc: 0.769 (best 0.811)\n",
            "In epoch 885, loss: 0.414, val acc: 0.848 (best 0.852), test acc: 0.769 (best 0.811)\n",
            "In epoch 890, loss: 0.414, val acc: 0.848 (best 0.852), test acc: 0.765 (best 0.811)\n",
            "In epoch 895, loss: 0.413, val acc: 0.846 (best 0.852), test acc: 0.763 (best 0.811)\n",
            "In epoch 900, loss: 0.413, val acc: 0.848 (best 0.852), test acc: 0.768 (best 0.811)\n",
            "In epoch 905, loss: 0.413, val acc: 0.848 (best 0.852), test acc: 0.768 (best 0.811)\n",
            "In epoch 910, loss: 0.413, val acc: 0.846 (best 0.852), test acc: 0.765 (best 0.811)\n",
            "In epoch 915, loss: 0.412, val acc: 0.848 (best 0.852), test acc: 0.768 (best 0.811)\n",
            "In epoch 920, loss: 0.412, val acc: 0.848 (best 0.852), test acc: 0.767 (best 0.811)\n",
            "In epoch 925, loss: 0.412, val acc: 0.846 (best 0.852), test acc: 0.761 (best 0.811)\n",
            "In epoch 930, loss: 0.412, val acc: 0.850 (best 0.852), test acc: 0.773 (best 0.811)\n",
            "In epoch 935, loss: 0.412, val acc: 0.846 (best 0.852), test acc: 0.762 (best 0.811)\n",
            "In epoch 940, loss: 0.412, val acc: 0.844 (best 0.852), test acc: 0.761 (best 0.811)\n",
            "In epoch 945, loss: 0.411, val acc: 0.848 (best 0.852), test acc: 0.769 (best 0.811)\n",
            "In epoch 950, loss: 0.411, val acc: 0.848 (best 0.852), test acc: 0.768 (best 0.811)\n",
            "In epoch 955, loss: 0.411, val acc: 0.846 (best 0.852), test acc: 0.762 (best 0.811)\n",
            "In epoch 960, loss: 0.410, val acc: 0.846 (best 0.852), test acc: 0.766 (best 0.811)\n",
            "In epoch 965, loss: 0.410, val acc: 0.846 (best 0.852), test acc: 0.767 (best 0.811)\n",
            "In epoch 970, loss: 0.410, val acc: 0.844 (best 0.852), test acc: 0.761 (best 0.811)\n",
            "In epoch 975, loss: 0.410, val acc: 0.846 (best 0.852), test acc: 0.772 (best 0.811)\n",
            "In epoch 980, loss: 0.410, val acc: 0.840 (best 0.852), test acc: 0.758 (best 0.811)\n",
            "In epoch 985, loss: 0.409, val acc: 0.846 (best 0.852), test acc: 0.764 (best 0.811)\n",
            "In epoch 990, loss: 0.409, val acc: 0.846 (best 0.852), test acc: 0.770 (best 0.811)\n",
            "In epoch 995, loss: 0.409, val acc: 0.844 (best 0.852), test acc: 0.763 (best 0.811)\n"
          ]
        }
      ]
    },
    {
      "cell_type": "code",
      "source": [
        "# class Model(nn.Module):\n",
        "#     def __init__(self, in_feats, out_feats):\n",
        "#         super(Model, self).__init__()\n",
        "#         self.linear = nn.Linear(in_feats, out_feats)\n",
        "#     def forward(self, graph, feat, eweight=None):\n",
        "#         with graph.local_scope():\n",
        "#             feat = self.linear(feat)\n",
        "#             graph.ndata['h'] = feat\n",
        "#             if eweight is None:\n",
        "#                 graph.update_all(fn.copy_u('h', 'm'), fn.sum('m', 'h'))\n",
        "#             else:\n",
        "#                 graph.edata['w'] = eweight\n",
        "#                 graph.update_all(fn.u_mul_e('h', 'w', 'm'), fn.sum('m', 'h'))\n",
        "#             return graph.ndata['h']"
      ],
      "metadata": {
        "id": "FDNDqWp9Qi-m"
      },
      "execution_count": null,
      "outputs": []
    },
    {
      "cell_type": "code",
      "source": [
        "# g = data[0]\n",
        "# features = g.ndata['feat'].float()\n",
        "# labels = g.ndata['label']\n",
        "# train_mask = g.ndata['train_mask']\n",
        "\n",
        "# model2 = Model(features.shape[1], 3)\n",
        "# criterion = nn.CrossEntropyLoss()\n",
        "# optimizer = torch.optim.Adam(model.parameters(), lr=1e-2)\n",
        "# for epoch in range(100):\n",
        "#     logits = model2(g, features)\n",
        "#     loss = criterion(logits[train_mask], labels[train_mask])\n",
        "\n",
        "#     pred = logits.argmax(1)\n",
        "#     train_acc = (pred[train_mask] == labels[train_mask]).float().mean()\n",
        "#     print('In epoch {}, acc: {}'.format(epoch, train_acc))\n",
        "\n",
        "#     optimizer.zero_grad()\n",
        "#     loss.backward()\n",
        "#     optimizer.step()"
      ],
      "metadata": {
        "id": "6OzQtp6HQkLO"
      },
      "execution_count": null,
      "outputs": []
    },
    {
      "cell_type": "code",
      "source": [
        "# from dgl.nn import GNNExplainer\n",
        "\n",
        "explainer = GNNExplainer(model, num_hops=1)\n",
        "features_catch = g.ndata['feat'].float()\n",
        "new_center, sg, feat_mask, edge_mask = explainer.explain_node(4186, g, features_catch)\n",
        "print(new_center)\n",
        "print(sg.num_edges())\n",
        "# Old IDs of the nodes in the subgraph\n",
        "print(sg.ndata[dgl.NID])\n",
        "# Old IDs of the edges in the subgraph\n",
        "print(sg.edata[dgl.EID])\n",
        "print(\"Nodes' importance:\",feat_mask)\n",
        "print(\"Edges importance:\",edge_mask)"
      ],
      "metadata": {
        "colab": {
          "base_uri": "https://localhost:8080/"
        },
        "id": "DK6HL-895YXb",
        "outputId": "2a3b777c-a0ab-4c1f-a2b9-baa3864817dd"
      },
      "execution_count": null,
      "outputs": [
        {
          "output_type": "stream",
          "name": "stderr",
          "text": [
            "Explain node {node_id}: 100%|██████████| 100/100 [00:01<00:00, 76.16it/s]\n"
          ]
        },
        {
          "output_type": "stream",
          "name": "stdout",
          "text": [
            "tensor([14])\n",
            "44\n",
            "tensor([ 721, 1182, 1539, 1567, 1622, 1631, 1637, 1756, 1757, 3055, 3847, 3881,\n",
            "        4170, 4171, 4186, 4847], dtype=torch.int32)\n",
            "tensor([ 3385,  3386,  5646,  5648,  5649,  7438,  7566,  7568,  7816,  7817,\n",
            "         7856,  7857,  7887,  8441,  8443,  8445, 14760, 14763, 14764, 18680,\n",
            "        18683, 18845, 18848, 20203, 20204, 20205, 20209, 20277, 20278, 20279,\n",
            "        20280, 20281, 20282, 20283, 20284, 20285, 20286, 20287, 20288, 20289,\n",
            "        20290, 20291, 23450, 23451], dtype=torch.int32)\n",
            "Nodes' importance: tensor([0.6822, 0.3610, 0.6990, 0.7032, 0.6793, 0.3336, 0.3067, 0.6265, 0.7170,\n",
            "        0.3775, 0.6669, 0.7147, 0.6757, 0.6959, 0.7015, 0.6603, 0.2902, 0.7157,\n",
            "        0.6781])\n",
            "Edges importance: tensor([0.2197, 0.3383, 0.1658, 0.1931, 0.2953, 0.7611, 0.2077, 0.2200, 0.1879,\n",
            "        0.3797, 0.3079, 0.8294, 0.7657, 0.8192, 0.1822, 0.2680, 0.2336, 0.8245,\n",
            "        0.3793, 0.8298, 0.2813, 0.2045, 0.3187, 0.8301, 0.8265, 0.3106, 0.6371,\n",
            "        0.1739, 0.1768, 0.1877, 0.2135, 0.2434, 0.1775, 0.2072, 0.2159, 0.2315,\n",
            "        0.1616, 0.1592, 0.8256, 0.1617, 0.8293, 0.1943, 0.1113, 0.2783])\n"
          ]
        }
      ]
    },
    {
      "cell_type": "code",
      "source": [
        "sg"
      ],
      "metadata": {
        "colab": {
          "base_uri": "https://localhost:8080/"
        },
        "id": "KM9IzlmhSgf-",
        "outputId": "2cd7ba16-910f-4347-936d-8c5d3bcd05e2"
      },
      "execution_count": null,
      "outputs": [
        {
          "output_type": "execute_result",
          "data": {
            "text/plain": [
              "Graph(num_nodes=16, num_edges=44,\n",
              "      ndata_schemes={'feat': Scheme(shape=(19,), dtype=torch.float64), 'label': Scheme(shape=(), dtype=torch.int64), 'train_mask': Scheme(shape=(), dtype=torch.bool), 'val_mask': Scheme(shape=(), dtype=torch.bool), 'test_mask': Scheme(shape=(), dtype=torch.bool), '_ID': Scheme(shape=(), dtype=torch.int32)}\n",
              "      edata_schemes={'weight': Scheme(shape=(), dtype=torch.float32), '_ID': Scheme(shape=(), dtype=torch.int32)})"
            ]
          },
          "metadata": {},
          "execution_count": 14
        }
      ]
    },
    {
      "cell_type": "code",
      "source": [
        "nodes=[str(x) for x in sg.ndata[dgl.NID].tolist()]\n",
        "edges=[str(x) for x in sg.edata[dgl.EID].tolist()]\n",
        "nodes"
      ],
      "metadata": {
        "colab": {
          "base_uri": "https://localhost:8080/"
        },
        "id": "YkgakoDOMJIK",
        "outputId": "feaad561-1c7e-4b34-81f6-b38abf172782"
      },
      "execution_count": null,
      "outputs": [
        {
          "output_type": "execute_result",
          "data": {
            "text/plain": [
              "['721',\n",
              " '1182',\n",
              " '1539',\n",
              " '1567',\n",
              " '1622',\n",
              " '1631',\n",
              " '1637',\n",
              " '1756',\n",
              " '1757',\n",
              " '3055',\n",
              " '3847',\n",
              " '3881',\n",
              " '4170',\n",
              " '4171',\n",
              " '4186',\n",
              " '4847']"
            ]
          },
          "metadata": {},
          "execution_count": 15
        }
      ]
    },
    {
      "cell_type": "code",
      "source": [
        "import networkx as nx\n",
        "\n",
        "G = dgl.to_networkx(sg)\n",
        "list_edges=list(G.edges())\n",
        "print(list_edges[0])\n",
        "print(list_edges[6])\n",
        "print(list_edges[11])\n",
        "print(list_edges[12])\n",
        "print(list_edges[14])\n",
        "print(list_edges[27])\n",
        "print(list_edges[28])\n",
        "print(list_edges[32])\n",
        "print(list_edges[33])\n",
        "print(list_edges[36])\n",
        "print(list_edges[39])\n",
        "print(list_edges[41])\n",
        "print(list_edges[42])\n",
        "nx.draw(G,with_labels=True)"
      ],
      "metadata": {
        "colab": {
          "base_uri": "https://localhost:8080/",
          "height": 545
        },
        "id": "-kcr9w-gSoGw",
        "outputId": "edbc10d9-e8f0-4b0d-bdd3-5f449a8b3837"
      },
      "execution_count": null,
      "outputs": [
        {
          "output_type": "stream",
          "name": "stdout",
          "text": [
            "(0, 11)\n",
            "(3, 8)\n",
            "(5, 15)\n",
            "(6, 14)\n",
            "(8, 3)\n",
            "(14, 0)\n",
            "(14, 1)\n",
            "(14, 5)\n",
            "(14, 6)\n",
            "(14, 9)\n",
            "(14, 12)\n",
            "(14, 15)\n",
            "(15, 5)\n"
          ]
        },
        {
          "output_type": "display_data",
          "data": {
            "text/plain": [
              "<Figure size 432x288 with 1 Axes>"
            ],
            "image/png": "[encoded data removed]"
          },
          "metadata": {}
        }
      ]
    }
  ]
}